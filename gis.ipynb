{
  "nbformat": 4,
  "nbformat_minor": 0,
  "metadata": {
    "colab": {
      "provenance": [],
      "authorship_tag": "ABX9TyNj1kMBrDmwz8U7tLVkMU6v",
      "include_colab_link": true
    },
    "kernelspec": {
      "name": "python3",
      "display_name": "Python 3"
    },
    "language_info": {
      "name": "python"
    }
  },
  "cells": [
    {
      "cell_type": "markdown",
      "metadata": {
        "id": "view-in-github",
        "colab_type": "text"
      },
      "source": [
        "<a href=\"https://colab.research.google.com/github/mona-jha/python/blob/main/gis.ipynb\" target=\"_parent\"><img src=\"https://colab.research.google.com/assets/colab-badge.svg\" alt=\"Open In Colab\"/></a>"
      ]
    },
    {
      "cell_type": "code",
      "source": [
        "#Install required tools\n",
        "!apt install -y gdal-bin\n",
        "!pip install rasterio\n",
        "!pip install GDAL==$(gdal-config --version) numpy matplotlib\n"
      ],
      "metadata": {
        "colab": {
          "base_uri": "https://localhost:8080/"
        },
        "id": "qBpbi-aSWvPc",
        "outputId": "47f6c4ef-28b2-4193-cc17-979a557169ca"
      },
      "execution_count": null,
      "outputs": [
        {
          "output_type": "stream",
          "name": "stdout",
          "text": [
            "Reading package lists... Done\n",
            "Building dependency tree... Done\n",
            "Reading state information... Done\n",
            "gdal-bin is already the newest version (3.6.4+dfsg-1~jammy0).\n",
            "0 upgraded, 0 newly installed, 0 to remove and 30 not upgraded.\n",
            "Requirement already satisfied: rasterio in /usr/local/lib/python3.11/dist-packages (1.4.3)\n",
            "Requirement already satisfied: affine in /usr/local/lib/python3.11/dist-packages (from rasterio) (2.4.0)\n",
            "Requirement already satisfied: attrs in /usr/local/lib/python3.11/dist-packages (from rasterio) (25.3.0)\n",
            "Requirement already satisfied: certifi in /usr/local/lib/python3.11/dist-packages (from rasterio) (2025.1.31)\n",
            "Requirement already satisfied: click>=4.0 in /usr/local/lib/python3.11/dist-packages (from rasterio) (8.1.8)\n",
            "Requirement already satisfied: cligj>=0.5 in /usr/local/lib/python3.11/dist-packages (from rasterio) (0.7.2)\n",
            "Requirement already satisfied: numpy>=1.24 in /usr/local/lib/python3.11/dist-packages (from rasterio) (2.0.2)\n",
            "Requirement already satisfied: click-plugins in /usr/local/lib/python3.11/dist-packages (from rasterio) (1.1.1)\n",
            "Requirement already satisfied: pyparsing in /usr/local/lib/python3.11/dist-packages (from rasterio) (3.2.3)\n"
          ]
        }
      ]
    },
    {
      "cell_type": "code",
      "source": [
        "!pip install -U gdown\n",
        "from google.colab import drive\n",
        "drive.mount('/content/drive')\n",
        "\n"
      ],
      "metadata": {
        "colab": {
          "base_uri": "https://localhost:8080/"
        },
        "id": "lOdXh-fcZdk_",
        "outputId": "89b276f3-aeb3-4808-bb6a-80e286775cf8"
      },
      "execution_count": null,
      "outputs": [
        {
          "output_type": "stream",
          "name": "stdout",
          "text": [
            "Requirement already satisfied: gdown in /usr/local/lib/python3.11/dist-packages (5.2.0)\n",
            "Requirement already satisfied: beautifulsoup4 in /usr/local/lib/python3.11/dist-packages (from gdown) (4.13.3)\n",
            "Requirement already satisfied: filelock in /usr/local/lib/python3.11/dist-packages (from gdown) (3.18.0)\n",
            "Requirement already satisfied: requests[socks] in /usr/local/lib/python3.11/dist-packages (from gdown) (2.32.3)\n",
            "Requirement already satisfied: tqdm in /usr/local/lib/python3.11/dist-packages (from gdown) (4.67.1)\n",
            "Requirement already satisfied: soupsieve>1.2 in /usr/local/lib/python3.11/dist-packages (from beautifulsoup4->gdown) (2.6)\n",
            "Requirement already satisfied: typing-extensions>=4.0.0 in /usr/local/lib/python3.11/dist-packages (from beautifulsoup4->gdown) (4.13.0)\n",
            "Requirement already satisfied: charset-normalizer<4,>=2 in /usr/local/lib/python3.11/dist-packages (from requests[socks]->gdown) (3.4.1)\n",
            "Requirement already satisfied: idna<4,>=2.5 in /usr/local/lib/python3.11/dist-packages (from requests[socks]->gdown) (3.10)\n",
            "Requirement already satisfied: urllib3<3,>=1.21.1 in /usr/local/lib/python3.11/dist-packages (from requests[socks]->gdown) (2.3.0)\n",
            "Requirement already satisfied: certifi>=2017.4.17 in /usr/local/lib/python3.11/dist-packages (from requests[socks]->gdown) (2025.1.31)\n",
            "Requirement already satisfied: PySocks!=1.5.7,>=1.5.6 in /usr/local/lib/python3.11/dist-packages (from requests[socks]->gdown) (1.7.1)\n",
            "Drive already mounted at /content/drive; to attempt to forcibly remount, call drive.mount(\"/content/drive\", force_remount=True).\n"
          ]
        }
      ]
    },
    {
      "cell_type": "code",
      "source": [
        "import gdown\n",
        "\n",
        "folder_id = \"14Mdf3BP0nI49hsJLtXFP4w-ZCYsMPSE-\"\n",
        "gdown.download_folder(f\"https://drive.google.com/drive/folders/{folder_id}\", quiet=False, use_cookies=False)\n"
      ],
      "metadata": {
        "id": "lEV_TsckwMyK"
      },
      "execution_count": null,
      "outputs": []
    },
    {
      "cell_type": "code",
      "source": [
        "import os\n",
        "from glob import glob\n",
        "import rasterio\n",
        "import numpy as np\n",
        "import subprocess\n",
        "\n",
        "# ✅ Update this to your actual folder with DEM files\n",
        "dem_folder = \"/content/final\"\n",
        "dem_files = glob(f\"{dem_folder}/*.tif\")\n",
        "\n",
        "print(f\" Found {len(dem_files)} DEM files:\")\n",
        "for f in dem_files:\n",
        "    print(\"-\", os.path.basename(f))\n"
      ],
      "metadata": {
        "id": "qDrbBOFHbNr4"
      },
      "execution_count": null,
      "outputs": []
    },
    {
      "cell_type": "code",
      "source": [
        "normalized_files = []\n",
        "\n",
        "for fp in dem_files:\n",
        "    base = os.path.basename(fp).replace(\".tif\", \"\")\n",
        "\n",
        "    # Step 1: Reproject to EPSG:4326 (if needed)\n",
        "    with rasterio.open(fp) as src:\n",
        "        if src.crs is None or src.crs.to_epsg() != 4326:\n",
        "            reproj_fp = f\"/content/{base}_reproj.tif\"\n",
        "            subprocess.run([\n",
        "                \"gdalwarp\", \"-t_srs\", \"EPSG:4326\", \"-r\", \"bilinear\", \"-overwrite\", fp, reproj_fp\n",
        "            ])\n",
        "        else:\n",
        "            reproj_fp = fp\n",
        "\n",
        "    # Step 2: Normalize elevation values\n",
        "    with rasterio.open(reproj_fp) as src:\n",
        "        data = src.read(1)\n",
        "        profile = src.profile\n",
        "        nodata = src.nodata or -9999\n",
        "\n",
        "        mask = (data != nodata)\n",
        "        valid = data[mask]\n",
        "\n",
        "        data_norm = np.full_like(data, nodata, dtype=np.float32)\n",
        "        if valid.size > 0 and valid.max() != valid.min():\n",
        "            data_norm[mask] = (valid - valid.min()) / (valid.max() - valid.min())\n",
        "\n",
        "        # Save normalized raster\n",
        "        norm_fp = f\"/content/{base}_norm.tif\"\n",
        "        profile.update(dtype='float32', nodata=nodata)\n",
        "\n",
        "        with rasterio.open(norm_fp, \"w\", **profile) as dst:\n",
        "            dst.write(data_norm, 1)\n",
        "\n",
        "        normalized_files.append(norm_fp)\n",
        "\n",
        "print(f\" Reprojected and normalized: {len(normalized_files)} files\")\n"
      ],
      "metadata": {
        "id": "87uxR1-yaTDJ"
      },
      "execution_count": null,
      "outputs": []
    },
    {
      "cell_type": "code",
      "source": [
        "output_path = \"/content/merged_dem_normalized.tif\"\n",
        "\n",
        "merge_cmd = [\n",
        "    \"gdal_merge.py\",\n",
        "    \"-o\", output_path,\n",
        "    \"-of\", \"GTiff\",\n",
        "    \"-a_nodata\", \"-9999\"\n",
        "] + normalized_files\n",
        "\n",
        "subprocess.run(merge_cmd)\n",
        "\n",
        "print(f\" Merged DEM saved to: {output_path}\")\n"
      ],
      "metadata": {
        "id": "iER41b7ObVwS"
      },
      "execution_count": null,
      "outputs": []
    },
    {
      "cell_type": "markdown",
      "source": [
        "# Save DEM File"
      ],
      "metadata": {
        "id": "yrHWQWAjd5ws"
      }
    },
    {
      "cell_type": "code",
      "source": [
        "import shutil\n",
        "import os\n",
        "\n",
        "# Create a folder in your Google Drive (if needed)\n",
        "target_folder = \"/content/drive/My Drive/dem_outputs\"\n",
        "os.makedirs(target_folder, exist_ok=True)\n",
        "\n",
        "# Set target path and copy the file\n",
        "source_file = \"/content/merged_dem_normalized.tif\"\n",
        "target_file = os.path.join(target_folder, \"merged_dem_normalized.tif\")\n",
        "\n",
        "shutil.copy(source_file, target_file)\n",
        "\n",
        "print(f\" File saved to: {target_file}\")\n"
      ],
      "metadata": {
        "id": "2qPlOydhd-p2"
      },
      "execution_count": null,
      "outputs": []
    },
    {
      "cell_type": "markdown",
      "source": [
        "#analysis"
      ],
      "metadata": {
        "id": "-qJ-KH2peAm0"
      }
    },
    {
      "cell_type": "code",
      "source": [
        "import rasterio\n",
        "import numpy as np\n",
        "import matplotlib.pyplot as plt\n",
        "\n",
        "# Replace this path with your actual DEM path\n",
        "dem_path = \"/content/merged_dem_normalized.tif\"\n",
        "\n",
        "with rasterio.open(dem_path) as src:\n",
        "    dem = src.read(1)\n",
        "    transform = src.transform\n",
        "    crs = src.crs\n",
        "    nodata = src.nodata\n",
        "\n",
        "print(f\"DEM shape: {dem.shape}, CRS: {crs}\")\n"
      ],
      "metadata": {
        "id": "_vyuVoe5bg3R"
      },
      "execution_count": null,
      "outputs": []
    },
    {
      "cell_type": "markdown",
      "source": [
        "# Elevation Profile Along a Line"
      ],
      "metadata": {
        "id": "NSUVlgSJcrcS"
      }
    },
    {
      "cell_type": "code",
      "source": [
        "from osgeo import gdal, ogr, osr\n",
        "import numpy as np\n",
        "import matplotlib.pyplot as plt\n",
        "\n",
        "# Paths\n",
        "dem_path = \"/content/merged_dem_normalized.tif\"\n",
        "line_shp = \"/content/profile_line.shp\"  # This is a polyline shapefile\n"
      ],
      "metadata": {
        "id": "n_OhA8Y0k0bt"
      },
      "execution_count": null,
      "outputs": []
    },
    {
      "cell_type": "code",
      "source": [
        "from osgeo import gdal, ogr, osr\n",
        "import numpy as np\n",
        "import matplotlib.pyplot as plt\n",
        "\n",
        "# Paths\n",
        "dem_path = \"/content/merged_dem_normalized.tif\"\n",
        "line_shp = \"/content/profile_line.shp\"  # This is a polyline shapefile\n"
      ],
      "metadata": {
        "id": "WL5fQ6Vok2jG"
      },
      "execution_count": null,
      "outputs": []
    },
    {
      "cell_type": "code",
      "source": [
        "# Open DEM\n",
        "dem_ds = gdal.Open(dem_path)\n",
        "band = dem_ds.GetRasterBand(1)\n",
        "gt = dem_ds.GetGeoTransform()\n",
        "nodata = band.GetNoDataValue()\n",
        "\n",
        "# Get projection of DEM\n",
        "dem_srs = osr.SpatialReference()\n",
        "dem_srs.ImportFromWkt(dem_ds.GetProjection())\n",
        "\n",
        "# Open Line shapefile\n",
        "shp_ds = ogr.Open(line_shp)\n",
        "layer = shp_ds.GetLayer()\n",
        "line = layer.GetNextFeature().GetGeometryRef()\n",
        "\n",
        "# Reproject line if needed\n",
        "line_srs = layer.GetSpatialRef()\n",
        "if not line_srs.IsSame(dem_srs):\n",
        "    transform = osr.CoordinateTransformation(line_srs, dem_srs)\n",
        "    line.Transform(transform)\n",
        "\n",
        "# Sample N points along the line\n",
        "N = 200\n",
        "dist = line.Length() / (N - 1)\n",
        "points = [line.Value(i * dist) for i in range(N)]\n",
        "\n",
        "# Sample elevation from DEM\n",
        "elevations = []\n",
        "for point in points:\n",
        "    x, y, _ = point.GetPoint()\n",
        "    col = int((x - gt[0]) / gt[1])\n",
        "    row = int((y - gt[3]) / gt[5])\n",
        "    value = band.ReadAsArray(col, row, 1, 1)[0][0]\n",
        "    elevations.append(np.nan if value == nodata else value)\n"
      ],
      "metadata": {
        "id": "z1aTIqJIcfPD"
      },
      "execution_count": null,
      "outputs": []
    },
    {
      "cell_type": "code",
      "source": [
        "plt.figure(figsize=(10, 4))\n",
        "plt.plot(elevations, color='green')\n",
        "plt.title(\"Elevation Profile Along the Line\")\n",
        "plt.xlabel(\"Distance along line (arbitrary units)\")\n",
        "plt.ylabel(\"Elevation\")\n",
        "plt.grid(True)\n",
        "plt.show()\n"
      ],
      "metadata": {
        "id": "FuOjwlKyk_Au"
      },
      "execution_count": null,
      "outputs": []
    },
    {
      "cell_type": "code",
      "source": [
        "from osgeo import ogr\n",
        "\n",
        "line_path = \"/content/profile_line.shp\"\n",
        "\n",
        "driver = ogr.GetDriverByName(\"ESRI Shapefile\")\n",
        "ds = driver.CreateDataSource(line_path)\n",
        "srs = osr.SpatialReference()\n",
        "srs.ImportFromEPSG(4326)  # Or same EPSG as your DEM\n",
        "layer = ds.CreateLayer(\"line\", srs, ogr.wkbLineString)\n",
        "\n",
        "line = ogr.Geometry(ogr.wkbLineString)\n",
        "line.AddPoint(77.5, 12.9)\n",
        "line.AddPoint(77.7, 13.0)\n",
        "\n",
        "feature_defn = layer.GetLayerDefn()\n",
        "feature = ogr.Feature(feature_defn)\n",
        "feature.SetGeometry(line)\n",
        "layer.CreateFeature(feature)\n",
        "\n",
        "ds = None  # Close\n",
        "print(\"✅ Line shapefile created:\", line_path)\n"
      ],
      "metadata": {
        "id": "VrD66HhwlBU6"
      },
      "execution_count": null,
      "outputs": []
    },
    {
      "cell_type": "markdown",
      "source": [
        "#Contour Analysis"
      ],
      "metadata": {
        "id": "zFeMsIZ1kDjC"
      }
    },
    {
      "cell_type": "code",
      "source": [
        "# Path to your DEM file\n",
        "dem_path = \"/content/merged_dem_normalized.tif\"\n",
        "dem_ds = gdal.Open(dem_path)\n",
        "band = dem_ds.GetRasterBand(1)\n",
        "nodata = band.GetNoDataValue() or -9999"
      ],
      "metadata": {
        "id": "92eN11pOkukS"
      },
      "execution_count": null,
      "outputs": []
    },
    {
      "cell_type": "code",
      "source": [
        "from osgeo import ogr\n",
        "\n",
        "# Output shapefile path\n",
        "contour_shp = \"/content/contours.shp\"\n",
        "\n",
        "# Create output shapefile\n",
        "driver = ogr.GetDriverByName(\"ESRI Shapefile\")\n",
        "if driver is None:\n",
        "    raise RuntimeError(\"Shapefile driver not available\")\n",
        "\n",
        "# Delete existing if present\n",
        "driver.DeleteDataSource(contour_shp)\n",
        "ds = driver.CreateDataSource(contour_shp)\n",
        "layer = ds.CreateLayer(\"contours\", srs=dem_ds.GetProjectionRef(), geom_type=ogr.wkbLineString)\n",
        "\n",
        "# Add elevation attribute field\n",
        "field_defn = ogr.FieldDefn(\"ELEV\", ogr.OFTReal)\n",
        "layer.CreateField(field_defn)\n",
        "\n",
        "# Generate contours every 10 units (you can change)\n",
        "gdal.ContourGenerate(\n",
        "    band,              # DEM band\n",
        "    10,                # contour interval (e.g., 10m)\n",
        "    0,                 # base contour value\n",
        "    [],                # fixed levels (empty = use interval)\n",
        "    0,                 # use no-data (0 = false)\n",
        "    nodata,            # no-data value\n",
        "    layer,             # output layer\n",
        "    0,                 # ID field index (not used)\n",
        "    0                  # elevation field index (0 = ELEV)\n",
        ")\n",
        "\n",
        "ds.Destroy()\n",
        "print(\"✅ Contour shapefile created:\", contour_shp)\n"
      ],
      "metadata": {
        "id": "LkOXXkWbkSgW"
      },
      "execution_count": null,
      "outputs": []
    },
    {
      "cell_type": "markdown",
      "source": [
        "Save"
      ],
      "metadata": {
        "id": "5d-M7clMkZat"
      }
    },
    {
      "cell_type": "code",
      "source": [
        "from google.colab import drive\n",
        "import shutil\n",
        "\n",
        "drive.mount('/content/drive')\n",
        "\n",
        "# Save contour shapefile to Drive\n",
        "shutil.copy(\"/content/contours.shp\", \"/content/drive/My Drive/contours.shp\")\n",
        "shutil.copy(\"/content/contours.dbf\", \"/content/drive/My Drive/contours.dbf\")\n",
        "shutil.copy(\"/content/contours.shx\", \"/content/drive/My Drive/contours.shx\")\n",
        "shutil.copy(\"/content/contours.prj\", \"/content/drive/My Drive/contours.prj\")\n",
        "\n",
        "print(\"✅ Contours saved to Google Drive.\")\n"
      ],
      "metadata": {
        "id": "sTX3HggmkYYb"
      },
      "execution_count": null,
      "outputs": []
    },
    {
      "cell_type": "code",
      "source": [
        "import geopandas as gpd\n",
        "import matplotlib.pyplot as plt\n",
        "import rasterio\n",
        "from rasterio.plot import show\n",
        "\n",
        "# Load contour lines\n",
        "contours = gpd.read_file(contour_shp)\n",
        "\n",
        "# Plot DEM and overlay contours\n",
        "with rasterio.open(dem_path) as src:\n",
        "    fig, ax = plt.subplots(figsize=(10, 8))\n",
        "    show(src, ax=ax, cmap='terrain', title=\"Contours over DEM\")\n",
        "    contours.plot(ax=ax, linewidth=0.5, color='black')\n",
        "    plt.show()\n"
      ],
      "metadata": {
        "id": "GyxGrd3LkWEj"
      },
      "execution_count": null,
      "outputs": []
    },
    {
      "cell_type": "markdown",
      "source": [],
      "metadata": {
        "id": "pqzXwHHikPn1"
      }
    },
    {
      "cell_type": "markdown",
      "source": [
        "# Slope Analysis  "
      ],
      "metadata": {
        "id": "vcs4LF15dATb"
      }
    },
    {
      "cell_type": "code",
      "source": [
        "from osgeo import gdal\n",
        "\n",
        "# Input DEM\n",
        "dem_path = \"/content/merged_dem_normalized.tif\"\n",
        "\n",
        "# Output slope raster\n",
        "slope_path = \"/content/slope_degrees.tif\"\n"
      ],
      "metadata": {
        "id": "67tWfYk3lNz0"
      },
      "execution_count": null,
      "outputs": []
    },
    {
      "cell_type": "code",
      "source": [
        "# Compute slope in degrees\n",
        "gdal.DEMProcessing(\n",
        "    slope_path,        # Output path\n",
        "    dem_path,          # Input DEM\n",
        "    \"slope\",           # Operation\n",
        "    options=gdal.DEMProcessingOptions(slopeFormat=\"degree\")\n",
        ")\n",
        "\n",
        "print(f\"✅ Slope (degrees) saved to: {slope_path}\")\n"
      ],
      "metadata": {
        "id": "cFii6NqNlW6F"
      },
      "execution_count": null,
      "outputs": []
    },
    {
      "cell_type": "code",
      "source": [
        "import matplotlib.pyplot as plt\n",
        "import numpy as np\n",
        "\n",
        "ds = gdal.Open(slope_path)\n",
        "slope_array = ds.ReadAsArray()\n",
        "\n",
        "plt.figure(figsize=(10, 6))\n",
        "plt.imshow(slope_array, cmap='terrain')\n",
        "plt.title(\"Slope Map (degrees)\")\n",
        "plt.colorbar(label=\"Degrees\")\n",
        "plt.axis('off')\n",
        "plt.show()\n"
      ],
      "metadata": {
        "id": "FcNI4V-Rc_PW"
      },
      "execution_count": null,
      "outputs": []
    },
    {
      "cell_type": "code",
      "source": [
        "from google.colab import drive\n",
        "import shutil\n",
        "\n",
        "drive.mount('/content/drive')\n",
        "\n",
        "shutil.copy(slope_path, \"/content/drive/My Drive/slope_degrees.tif\")\n",
        "print(\" Slope saved to Google Drive\")\n"
      ],
      "metadata": {
        "id": "lEDR1S6llez2"
      },
      "execution_count": null,
      "outputs": []
    },
    {
      "cell_type": "markdown",
      "source": [],
      "metadata": {
        "id": "1yzfVd9HkChV"
      }
    },
    {
      "cell_type": "markdown",
      "source": [
        "# Aspect Analysis"
      ],
      "metadata": {
        "id": "6Ksby03pdGoR"
      }
    },
    {
      "cell_type": "code",
      "source": [
        "# Output aspect map\n",
        "aspect_path = \"/content/aspect.tif\"\n",
        "\n",
        "# Compute aspect using GDAL\n",
        "subprocess.run([\n",
        "    \"gdaldem\", \"aspect\", dem_path, aspect_path,\n",
        "    \"-of\", \"GTiff\"\n",
        "])\n",
        "\n",
        "# Visualize aspect\n",
        "with rasterio.open(aspect_path) as src:\n",
        "    aspect = src.read(1)\n",
        "\n",
        "plt.figure(figsize=(8, 6))\n",
        "plt.imshow(aspect, cmap='hsv')\n",
        "plt.title(\"Aspect Map (0° = North)\")\n",
        "plt.colorbar(label=\"Azimuth (°)\")\n",
        "plt.axis(\"off\")\n",
        "plt.show()\n"
      ],
      "metadata": {
        "id": "N3aPWbncdGNC"
      },
      "execution_count": null,
      "outputs": []
    },
    {
      "cell_type": "markdown",
      "source": [
        "# Hydrological Analysis"
      ],
      "metadata": {
        "id": "oIR4RgYzgqPd"
      }
    },
    {
      "cell_type": "code",
      "source": [
        "dem_path = \"/content/merged_dem_normalized.tif\"\n",
        "filled_dem = \"/content/filled_dem.tif\"\n",
        "\n",
        "!gdal_fillnodata.py -of GTiff -co COMPRESS=DEFLATE -co TILED=YES \\\n",
        "  {dem_path} {filled_dem}\n"
      ],
      "metadata": {
        "id": "iWu02zEFgs-s"
      },
      "execution_count": null,
      "outputs": []
    },
    {
      "cell_type": "code",
      "source": [
        "import richdem as rd\n",
        "\n",
        "# Load filled DEM\n",
        "rdem = rd.LoadGDAL(filled_dem)\n",
        "\n",
        "# Compute flow direction using D8 algorithm\n",
        "flow_dir = rd.FlowDirD8(rdem)\n",
        "flow_dir_path = \"/content/flow_direction.tif\"\n",
        "rd.SaveGDAL(flow_dir_path, flow_dir)\n",
        "\n",
        "print(\" Flow direction saved:\", flow_dir_path)\n"
      ],
      "metadata": {
        "id": "a87qg8Bkgxpp"
      },
      "execution_count": null,
      "outputs": []
    },
    {
      "cell_type": "code",
      "source": [
        "# Compute flow accumulation\n",
        "flow_acc = rd.FlowAccumD8(rdem, in_place=False)\n",
        "flow_acc_path = \"/content/flow_accumulation.tif\"\n",
        "rd.SaveGDAL(flow_acc_path, flow_acc)\n",
        "\n",
        "print(\" Flow accumulation saved:\", flow_acc_path)\n"
      ],
      "metadata": {
        "id": "8z3dVEFEg1LX"
      },
      "execution_count": null,
      "outputs": []
    },
    {
      "cell_type": "code",
      "source": [
        "import numpy as np\n",
        "import matplotlib.pyplot as plt\n",
        "\n",
        "# Convert to log scale for visualization\n",
        "acc_data = np.array(flow_acc, dtype=np.float32)\n",
        "acc_data[acc_data <= 0] = np.nan\n",
        "\n",
        "plt.figure(figsize=(10, 6))\n",
        "plt.imshow(np.log1p(acc_data), cmap='Blues')\n",
        "plt.title(\"Flow Accumulation (log scale)\")\n",
        "plt.axis(\"off\")\n",
        "plt.colorbar(label=\"Log(Accumulation)\")\n",
        "plt.show()\n"
      ],
      "metadata": {
        "id": "Oa34uMtWg4VB"
      },
      "execution_count": null,
      "outputs": []
    },
    {
      "cell_type": "code",
      "source": [
        "# Thresholding high accumulation zones (tune value as needed)\n",
        "flood_mask = acc_data > 500  # Try 1000 or 2000 for smaller rivers\n",
        "\n",
        "plt.figure(figsize=(10, 6))\n",
        "plt.imshow(flood_mask, cmap='Reds')\n",
        "plt.title(\"Potential Flooding Zones / River Crossings\")\n",
        "plt.axis(\"off\")\n",
        "plt.show()\n"
      ],
      "metadata": {
        "id": "_n5cCcMWg6tG"
      },
      "execution_count": null,
      "outputs": []
    },
    {
      "cell_type": "code",
      "source": [
        "# Create output folder in Drive\n",
        "output_folder = \"/content/drive/My Drive/hydrology_results\"\n",
        "os.makedirs(output_folder, exist_ok=True)\n",
        "\n",
        "# Save files\n",
        "shutil.copy(flow_dir_path, os.path.join(output_folder, \"flow_direction.tif\"))\n",
        "shutil.copy(flow_acc_path, os.path.join(output_folder, \"flow_accumulation.tif\"))\n",
        "shutil.copy(filled_dem, os.path.join(output_folder, \"filled_dem.tif\"))\n",
        "\n",
        "print(f\"All outputs saved to Google Drive: {output_folder}\")"
      ],
      "metadata": {
        "id": "5n7Rcqqhg_K3"
      },
      "execution_count": null,
      "outputs": []
    },
    {
      "cell_type": "markdown",
      "source": [
        "# Surface Analysis"
      ],
      "metadata": {
        "id": "UWy1eSLSiCoJ"
      }
    },
    {
      "cell_type": "code",
      "source": [
        "from osgeo import gdal\n",
        "import numpy as np\n",
        "\n",
        "# Open DEM\n",
        "dem_path = \"/content/merged_dem_normalized.tif\"\n",
        "dem_ds = gdal.Open(dem_path)\n",
        "dem_array = dem_ds.ReadAsArray().astype(np.float32)\n",
        "geotransform = dem_ds.GetGeoTransform()\n",
        "projection = dem_ds.GetProjection()\n",
        "nodata = dem_ds.GetRasterBand(1).GetNoDataValue()\n",
        "\n",
        "# Mask NoData\n",
        "dem_array[dem_array == nodata] = np.nan\n",
        "print(\" DEM loaded:\", dem_array.shape)\n"
      ],
      "metadata": {
        "id": "95-rGVdtiG4m"
      },
      "execution_count": null,
      "outputs": []
    },
    {
      "cell_type": "markdown",
      "source": [
        "Ruggedness Index (TRI)"
      ],
      "metadata": {
        "id": "koygO4d0iPSM"
      }
    },
    {
      "cell_type": "code",
      "source": [
        "from osgeo import gdal_array\n",
        "\n",
        "def compute_tri_gdal(dem_array):\n",
        "    padded = np.pad(dem_array, 1, mode='edge')\n",
        "    tri_array = np.empty_like(dem_array, dtype=np.float32)\n",
        "\n",
        "    rows, cols = dem_array.shape\n",
        "    for i in range(rows):\n",
        "        for j in range(cols):\n",
        "            center = padded[i+1, j+1]\n",
        "            window = padded[i:i+3, j:j+3]\n",
        "            diffs = np.abs(window - center)\n",
        "            tri_array[i, j] = np.nanmean(diffs)\n",
        "\n",
        "    return tri_array\n",
        "\n",
        "tri = compute_tri_gdal(dem_array)\n"
      ],
      "metadata": {
        "id": "L0pFyfNWiWuO"
      },
      "execution_count": null,
      "outputs": []
    },
    {
      "cell_type": "code",
      "source": [
        "#Flat and Rough Terrain\n",
        "# Define thresholds\n",
        "rough_threshold = 0.05\n",
        "flat_threshold = 0.01\n",
        "\n",
        "rough_mask = (tri > rough_threshold).astype(np.uint8)\n",
        "flat_mask = (tri < flat_threshold).astype(np.uint8)\n"
      ],
      "metadata": {
        "id": "se_HT63aiccC"
      },
      "execution_count": null,
      "outputs": []
    },
    {
      "cell_type": "code",
      "source": [
        "def save_array_as_tiff(array, out_path, reference_ds, dtype=gdal.GDT_Float32):\n",
        "    driver = gdal.GetDriverByName(\"GTiff\")\n",
        "    out_ds = driver.Create(out_path, reference_ds.RasterXSize, reference_ds.RasterYSize, 1, dtype)\n",
        "    out_ds.SetGeoTransform(reference_ds.GetGeoTransform())\n",
        "    out_ds.SetProjection(reference_ds.GetProjection())\n",
        "    out_ds.GetRasterBand(1).WriteArray(array)\n",
        "    out_ds.GetRasterBand(1).SetNoDataValue(np.nan)\n",
        "    out_ds.FlushCache()\n",
        "    out_ds = None\n",
        "\n",
        "save_array_as_tiff(tri, \"/content/terrain_ruggedness.tif\", dem_ds)\n",
        "save_array_as_tiff(flat_mask, \"/content/flat_zones.tif\", dem_ds, dtype=gdal.GDT_Byte)\n"
      ],
      "metadata": {
        "id": "G7fqjhC7ikmF"
      },
      "execution_count": null,
      "outputs": []
    },
    {
      "cell_type": "code",
      "source": [
        "import matplotlib.pyplot as plt\n",
        "\n",
        "plt.figure(figsize=(12, 5))\n",
        "\n",
        "plt.subplot(1, 2, 1)\n",
        "plt.imshow(tri, cmap='inferno')\n",
        "plt.title(\"Terrain Ruggedness Index (TRI)\")\n",
        "plt.colorbar()\n",
        "\n",
        "plt.subplot(1, 2, 2)\n",
        "plt.imshow(flat_mask, cmap='Greens')\n",
        "plt.title(\"Flat Terrain Zones\")\n",
        "plt.axis('off')\n",
        "\n",
        "plt.tight_layout()\n",
        "plt.show()\n"
      ],
      "metadata": {
        "id": "U9KkehefimxM"
      },
      "execution_count": null,
      "outputs": []
    }
  ]
}